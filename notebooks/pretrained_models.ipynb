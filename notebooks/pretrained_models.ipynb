{
 "cells": [
  {
   "cell_type": "code",
   "execution_count": 2,
   "metadata": {
    "collapsed": true
   },
   "outputs": [],
   "source": [
    "import torch\n",
    "from glob import glob\n",
    "from ast import literal_eval\n",
    "import os\n",
    "\n",
    "import numpy as np\n",
    "import pandas as pd\n",
    "import matplotlib.pyplot as plt\n",
    "import seaborn as sns\n",
    "from typing import List\n",
    "from IPython.core.display import display, HTML\n",
    "from sklearn.manifold import TSNE\n",
    "from tqdm.notebook import tqdm\n",
    "from time import time"
   ]
  },
  {
   "cell_type": "code",
   "execution_count": 3,
   "outputs": [],
   "source": [
    "os.chdir('Continual/Shared/mammoth/')\n",
    "os.getcwd()\n",
    "base_path = '/nas/softechict-nas-2/efrascaroli/mammoth-data/'"
   ],
   "metadata": {
    "collapsed": false,
    "pycharm": {
     "name": "#%%\n"
    }
   }
  },
  {
   "cell_type": "code",
   "execution_count": 4,
   "outputs": [],
   "source": [
    "from torchvision.datasets import CIFAR100\n",
    "import torchvision.transforms as transforms\n",
    "from torch.utils.data import DataLoader\n",
    "from backbone.ResNet18 import resnet18\n",
    "from utils.spectral_analysis import laplacian_analysis"
   ],
   "metadata": {
    "collapsed": false,
    "pycharm": {
     "name": "#%%\n"
    }
   }
  },
  {
   "cell_type": "code",
   "execution_count": 5,
   "outputs": [],
   "source": [
    "device = 'cuda'\n",
    "model = resnet18(100).to(device)\n",
    "C100_TRANSFORM = transforms.Compose(\n",
    "    [transforms.ToTensor(),\n",
    "     transforms.Normalize((0.5071, 0.4867, 0.4408),\n",
    "                          (0.2675, 0.2565, 0.2761))])\n",
    "\n",
    "def c100_test(model: torch.nn.Module):\n",
    "    ds = CIFAR100(base_path, transform=C100_TRANSFORM, train=False)\n",
    "    dl = DataLoader(ds, 32)\n",
    "    acc = 0\n",
    "    model.eval()\n",
    "    for x, y in dl:\n",
    "        x, y = x.to(device), y.to(device)\n",
    "        features = model.features(x)\n",
    "        logits = model(x)\n",
    "        acc += (logits.argmax(1) == y).sum().item()\n",
    "    acc /= len(ds)\n",
    "    model.train()\n",
    "    return acc"
   ],
   "metadata": {
    "collapsed": false,
    "pycharm": {
     "name": "#%%\n"
    }
   }
  },
  {
   "cell_type": "code",
   "execution_count": 6,
   "outputs": [],
   "source": [
    "def load_buffer(size=100):\n",
    "    ds = CIFAR100(base_path, transform=C100_TRANSFORM)\n",
    "    dl = DataLoader(ds, size, shuffle=True)\n",
    "    x, y = next(iter(dl))\n",
    "    return x.to(device), y.to(device)"
   ],
   "metadata": {
    "collapsed": false,
    "pycharm": {
     "name": "#%%\n"
    }
   }
  },
  {
   "cell_type": "code",
   "execution_count": 7,
   "outputs": [
    {
     "name": "stdout",
     "output_type": "stream",
     "text": [
      "Init acc: 1.09\n",
      "Pre trained acc: 67.59\n"
     ]
    }
   ],
   "source": [
    "print(f'Init acc: {c100_test(model)*100:.2f}')\n",
    "saved_dict = torch.load('/nas/softechict-nas-2/efrascaroli/mammoth-data/checkpoints/rs18_cifar100_new.pth')\n",
    "model.load_state_dict(saved_dict, strict=False)\n",
    "model.to(device)\n",
    "print(f'Pre trained acc: {c100_test(model)*100:.2f}')"
   ],
   "metadata": {
    "collapsed": false,
    "pycharm": {
     "name": "#%%\n"
    }
   }
  },
  {
   "cell_type": "code",
   "execution_count": 8,
   "outputs": [
    {
     "name": "stdout",
     "output_type": "stream",
     "text": [
      "computing time: 1.9502\n"
     ]
    }
   ],
   "source": [
    "buffer_size = 1000\n",
    "x_buffer, y_buffer = load_buffer(buffer_size)\n",
    "knn = 10\n",
    "n_evects = 20\n",
    "latents = model.features(x_buffer)\n",
    "t1 = time()\n",
    "with torch.no_grad():\n",
    "    energy, eigenvalues, eigenvectors, L, _ = laplacian_analysis(latents, norm_lap=True, knn=knn, n_pairs=n_evects)\n",
    "t2 = time()\n",
    "print(f'computing time: {t2-t1:.4f}')"
   ],
   "metadata": {
    "collapsed": false,
    "pycharm": {
     "name": "#%%\n"
    }
   }
  },
  {
   "cell_type": "raw",
   "source": [
    "buffer 100: 0.118s\n",
    "buffer 1000: 1.4s\n"
   ],
   "metadata": {
    "collapsed": false,
    "pycharm": {
     "name": "#%% raw\n"
    }
   }
  },
  {
   "cell_type": "code",
   "execution_count": 9,
   "outputs": [
    {
     "data": {
      "text/plain": "1000"
     },
     "execution_count": 9,
     "metadata": {},
     "output_type": "execute_result"
    }
   ],
   "source": [
    "len(eigenvectors)\n"
   ],
   "metadata": {
    "collapsed": false,
    "pycharm": {
     "name": "#%%\n"
    }
   }
  }
 ],
 "metadata": {
  "kernelspec": {
   "display_name": "Python 3",
   "language": "python",
   "name": "python3"
  },
  "language_info": {
   "codemirror_mode": {
    "name": "ipython",
    "version": 2
   },
   "file_extension": ".py",
   "mimetype": "text/x-python",
   "name": "python",
   "nbconvert_exporter": "python",
   "pygments_lexer": "ipython2",
   "version": "2.7.6"
  }
 },
 "nbformat": 4,
 "nbformat_minor": 0
}