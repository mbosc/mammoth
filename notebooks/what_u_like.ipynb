{
 "cells": [
  {
   "cell_type": "code",
   "execution_count": 1,
   "metadata": {},
   "outputs": [],
   "source": [
    "import torch\n",
    "from glob import glob\n",
    "from ast import literal_eval\n",
    "\n",
    "import numpy as np\n",
    "import pandas as pd\n",
    "import matplotlib.pyplot as plt\n",
    "import seaborn as sns\n",
    "from typing import List\n",
    "from IPython.core.display import display, HTML\n",
    "from sklearn.manifold import TSNE\n",
    "from tqdm.notebook import tqdm"
   ]
  },
  {
   "cell_type": "code",
   "execution_count": 2,
   "metadata": {
    "pycharm": {
     "name": "#%%\n"
    }
   },
   "outputs": [
    {
     "data": {
      "text/plain": "<IPython.core.display.HTML object>",
      "text/html": "<style>#notebook { padding-top:0px; } .container { width:100%; } .end_space { min-height:0px; } </style>"
     },
     "metadata": {},
     "output_type": "display_data"
    },
    {
     "name": "stdout",
     "output_type": "stream",
     "text": [
      "device: cuda\n"
     ]
    }
   ],
   "source": [
    "pd.set_option('display.max_rows', 5000)\n",
    "pd.set_option('display.max_columns', 500)\n",
    "pd.set_option('display.width', 2000)\n",
    "\n",
    "plt.style.use('dark_background')\n",
    "\n",
    "display(HTML(\"<style>\"\n",
    "    + \"#notebook { padding-top:0px; } \" \"\"\n",
    "    + \".container { width:100%; } \"\n",
    "    + \".end_space { min-height:0px; } \"\n",
    "    + \"</style>\"))\n",
    "\n",
    "device = 'cuda' if torch.cuda.is_available() else 'cpu'\n",
    "print(f'device: {device}')"
   ]
  },
  {
   "cell_type": "code",
   "execution_count": 3,
   "metadata": {
    "pycharm": {
     "name": "#%%\n"
    }
   },
   "outputs": [],
   "source": [
    "def get_name_exp(exp: dict):\n",
    "    interesting_props = ['buffer_size', 'con_weight']\n",
    "    props = {}\n",
    "    for prop in interesting_props:\n",
    "        if prop in exp:\n",
    "            props[prop] = exp[prop]\n",
    "    if len(props) == 0: props = ''\n",
    "    return f'{exp[\"model\"]} {props}'\n",
    "\n",
    "def print_exp_info(exp: dict):\n",
    "    print(f'model: {get_name_exp(exp)}')\n",
    "    print({k: exp[k] for k in exp if k not in ['latents']})"
   ]
  },
  {
   "cell_type": "code",
   "execution_count": 4,
   "outputs": [],
   "source": [
    "def flatten_list(l: List[List[any]]) -> List[any]:\n",
    "    return [item for line in l for item in line]"
   ],
   "metadata": {
    "collapsed": false,
    "pycharm": {
     "name": "#%%\n"
    }
   }
  },
  {
   "cell_type": "code",
   "execution_count": 5,
   "metadata": {
    "pycharm": {
     "name": "#%%\n"
    }
   },
   "outputs": [],
   "source": [
    "# logs_path = 'C:\\\\Users\\\\emace\\\\AImageLab\\\\SRV-Continual\\\\results\\\\canomaly\\\\logs'\n",
    "logs_path = '/nas/softechict-nas-2/efrascaroli/mammoth-data/logs'\n",
    "# logs_path = '/nas/softechict-nas-1/rbenaglia/canomaly-data/logs'\n",
    "# logs_path = '../storage/logs'"
   ]
  },
  {
   "cell_type": "code",
   "execution_count": 6,
   "metadata": {
    "pycharm": {
     "name": "#%%\n"
    }
   },
   "outputs": [
    {
     "name": "stdout",
     "output_type": "stream",
     "text": [
      "/nas/softechict-nas-2/efrascaroli/mammoth-data/logs/seq-cifar10/er_ace_con/results.pyd\n",
      "Env: ['seq-cifar10', 'er_ace_con', 'results.pyd']\n",
      "/nas/softechict-nas-2/efrascaroli/mammoth-data/logs/seq-cifar10/er_ace_con/res1.pyd\n",
      "Env: ['seq-cifar10', 'er_ace_con', 'res1.pyd']\n",
      "/nas/softechict-nas-2/efrascaroli/mammoth-data/logs/seq-cifar100-10x10/er_ace_con/res1.pyd\n",
      "Env: ['seq-cifar100-10x10', 'er_ace_con', 'res1.pyd']\n"
     ]
    }
   ],
   "source": [
    "exp_list = []\n",
    "environments = []\n",
    "for log_file in glob(logs_path + '/**/*ace*/*res*.pyd', recursive=True):\n",
    "    print(log_file)\n",
    "    with open(log_file, 'r') as f:\n",
    "        props_list = [prop for prop in log_file.replace(logs_path, '').split('/')[1:]]\n",
    "        print(f'Env: {props_list}')\n",
    "        props = props_list\n",
    "        exps = []\n",
    "        for i, line in enumerate(f.readlines()):\n",
    "            try:\n",
    "                exps.append(literal_eval(line.replace('nan', 'None')))\n",
    "            except:\n",
    "                print(f'Unparsed line {i}:\\n\\t{exps[:-1]}\\n-->\\t{line}')\n",
    "\n",
    "        environments.append({'env': props, 'exps': exps})\n",
    "\n",
    "        exp_list.extend(exps)"
   ]
  },
  {
   "cell_type": "code",
   "execution_count": 7,
   "metadata": {
    "pycharm": {
     "name": "#%%\n"
    }
   },
   "outputs": [
    {
     "name": "stdout",
     "output_type": "stream",
     "text": [
      "Total exps: 50\n"
     ]
    },
    {
     "data": {
      "text/plain": "['seq-cifar10', 'er_ace_con', 'res1.pyd']"
     },
     "execution_count": 7,
     "metadata": {},
     "output_type": "execute_result"
    }
   ],
   "source": [
    "print(f'Total exps: {len(exp_list)}')\n",
    "# exp_list[0]['results']\n",
    "environments[1]['env']"
   ]
  },
  {
   "cell_type": "code",
   "execution_count": 8,
   "outputs": [],
   "source": [
    "discriminant = 'con_weight'\n",
    "important_task = [2, 3, 4]\n",
    "results_dict = {}\n",
    "for idx, exp in enumerate(environments[0]['exps']):\n",
    "    dis = exp[discriminant]\n",
    "    if dis not in results_dict:\n",
    "        results_dict[dis] = {'n_exps': 0, 'exp_indexes': []}\n",
    "        for i in important_task:\n",
    "            results_dict[dis][f'CIL-{i}'] = []\n",
    "            results_dict[dis][f'TIL-{i}'] = []\n",
    "            results_dict[dis][f'ConE-{i}'] = []\n",
    "    results_dict[dis]['n_exps'] += 1\n",
    "    results_dict[dis]['exp_indexes'].append(idx)\n",
    "    for i in important_task:\n",
    "        results_dict[dis][f'CIL-{i}'].append(exp['results'][i-1]['Class-IL mean'])\n",
    "        results_dict[dis][f'TIL-{i}'].append(exp['results'][i-1]['Task-IL mean'])\n",
    "        results_dict[dis][f'ConE-{i}'].append(exp['results'][i-1]['Con-Error'])"
   ],
   "metadata": {
    "collapsed": false,
    "pycharm": {
     "name": "#%%\n"
    }
   }
  },
  {
   "cell_type": "code",
   "execution_count": 9,
   "outputs": [
    {
     "name": "stdout",
     "output_type": "stream",
     "text": [
      "con weight: 0.1 | exps(5): [0, 7, 11, 16, 18]\n",
      "\n"
     ]
    },
    {
     "data": {
      "text/plain": "            Class-IL       Task-IL     Con-Error\nTask 2  58.10 ± 4.70  73.22 ± 4.19  24.26 ± 1.00\nTask 3  47.71 ± 3.33  76.72 ± 3.34  23.16 ± 0.43\nTask 4  41.77 ± 3.39  77.02 ± 2.31  21.47 ± 0.67",
      "text/html": "<div>\n<style scoped>\n    .dataframe tbody tr th:only-of-type {\n        vertical-align: middle;\n    }\n\n    .dataframe tbody tr th {\n        vertical-align: top;\n    }\n\n    .dataframe thead th {\n        text-align: right;\n    }\n</style>\n<table border=\"1\" class=\"dataframe\">\n  <thead>\n    <tr style=\"text-align: right;\">\n      <th></th>\n      <th>Class-IL</th>\n      <th>Task-IL</th>\n      <th>Con-Error</th>\n    </tr>\n  </thead>\n  <tbody>\n    <tr>\n      <th>Task 2</th>\n      <td>58.10 ± 4.70</td>\n      <td>73.22 ± 4.19</td>\n      <td>24.26 ± 1.00</td>\n    </tr>\n    <tr>\n      <th>Task 3</th>\n      <td>47.71 ± 3.33</td>\n      <td>76.72 ± 3.34</td>\n      <td>23.16 ± 0.43</td>\n    </tr>\n    <tr>\n      <th>Task 4</th>\n      <td>41.77 ± 3.39</td>\n      <td>77.02 ± 2.31</td>\n      <td>21.47 ± 0.67</td>\n    </tr>\n  </tbody>\n</table>\n</div>"
     },
     "metadata": {},
     "output_type": "display_data"
    },
    {
     "name": "stdout",
     "output_type": "stream",
     "text": [
      "con weight: 0.001 | exps(5): [1, 4, 8, 12, 15]\n",
      "\n"
     ]
    },
    {
     "data": {
      "text/plain": "            Class-IL       Task-IL     Con-Error\nTask 2  79.90 ± 2.82  91.24 ± 0.98  23.96 ± 0.86\nTask 3  64.96 ± 2.70  90.24 ± 0.86  22.56 ± 0.78\nTask 4  60.64 ± 3.47  89.52 ± 1.66  21.29 ± 0.74",
      "text/html": "<div>\n<style scoped>\n    .dataframe tbody tr th:only-of-type {\n        vertical-align: middle;\n    }\n\n    .dataframe tbody tr th {\n        vertical-align: top;\n    }\n\n    .dataframe thead th {\n        text-align: right;\n    }\n</style>\n<table border=\"1\" class=\"dataframe\">\n  <thead>\n    <tr style=\"text-align: right;\">\n      <th></th>\n      <th>Class-IL</th>\n      <th>Task-IL</th>\n      <th>Con-Error</th>\n    </tr>\n  </thead>\n  <tbody>\n    <tr>\n      <th>Task 2</th>\n      <td>79.90 ± 2.82</td>\n      <td>91.24 ± 0.98</td>\n      <td>23.96 ± 0.86</td>\n    </tr>\n    <tr>\n      <th>Task 3</th>\n      <td>64.96 ± 2.70</td>\n      <td>90.24 ± 0.86</td>\n      <td>22.56 ± 0.78</td>\n    </tr>\n    <tr>\n      <th>Task 4</th>\n      <td>60.64 ± 3.47</td>\n      <td>89.52 ± 1.66</td>\n      <td>21.29 ± 0.74</td>\n    </tr>\n  </tbody>\n</table>\n</div>"
     },
     "metadata": {},
     "output_type": "display_data"
    },
    {
     "name": "stdout",
     "output_type": "stream",
     "text": [
      "con weight: 0.01 | exps(5): [2, 5, 9, 13, 17]\n",
      "\n"
     ]
    },
    {
     "data": {
      "text/plain": "            Class-IL       Task-IL     Con-Error\nTask 2  80.25 ± 1.51  91.02 ± 0.75  22.78 ± 1.85\nTask 3  65.81 ± 2.81  90.42 ± 1.18  21.67 ± 0.61\nTask 4  61.70 ± 2.01  90.90 ± 0.67  20.75 ± 0.56",
      "text/html": "<div>\n<style scoped>\n    .dataframe tbody tr th:only-of-type {\n        vertical-align: middle;\n    }\n\n    .dataframe tbody tr th {\n        vertical-align: top;\n    }\n\n    .dataframe thead th {\n        text-align: right;\n    }\n</style>\n<table border=\"1\" class=\"dataframe\">\n  <thead>\n    <tr style=\"text-align: right;\">\n      <th></th>\n      <th>Class-IL</th>\n      <th>Task-IL</th>\n      <th>Con-Error</th>\n    </tr>\n  </thead>\n  <tbody>\n    <tr>\n      <th>Task 2</th>\n      <td>80.25 ± 1.51</td>\n      <td>91.02 ± 0.75</td>\n      <td>22.78 ± 1.85</td>\n    </tr>\n    <tr>\n      <th>Task 3</th>\n      <td>65.81 ± 2.81</td>\n      <td>90.42 ± 1.18</td>\n      <td>21.67 ± 0.61</td>\n    </tr>\n    <tr>\n      <th>Task 4</th>\n      <td>61.70 ± 2.01</td>\n      <td>90.90 ± 0.67</td>\n      <td>20.75 ± 0.56</td>\n    </tr>\n  </tbody>\n</table>\n</div>"
     },
     "metadata": {},
     "output_type": "display_data"
    },
    {
     "name": "stdout",
     "output_type": "stream",
     "text": [
      "con weight: 0.0 | exps(5): [3, 6, 10, 14, 19]\n",
      "\n"
     ]
    },
    {
     "data": {
      "text/plain": "            Class-IL       Task-IL     Con-Error\nTask 2  82.32 ± 1.38  91.92 ± 0.73  26.63 ± 0.95\nTask 3  66.85 ± 1.95  90.08 ± 0.91  25.58 ± 0.99\nTask 4  61.18 ± 1.39  90.22 ± 0.82  23.91 ± 1.21",
      "text/html": "<div>\n<style scoped>\n    .dataframe tbody tr th:only-of-type {\n        vertical-align: middle;\n    }\n\n    .dataframe tbody tr th {\n        vertical-align: top;\n    }\n\n    .dataframe thead th {\n        text-align: right;\n    }\n</style>\n<table border=\"1\" class=\"dataframe\">\n  <thead>\n    <tr style=\"text-align: right;\">\n      <th></th>\n      <th>Class-IL</th>\n      <th>Task-IL</th>\n      <th>Con-Error</th>\n    </tr>\n  </thead>\n  <tbody>\n    <tr>\n      <th>Task 2</th>\n      <td>82.32 ± 1.38</td>\n      <td>91.92 ± 0.73</td>\n      <td>26.63 ± 0.95</td>\n    </tr>\n    <tr>\n      <th>Task 3</th>\n      <td>66.85 ± 1.95</td>\n      <td>90.08 ± 0.91</td>\n      <td>25.58 ± 0.99</td>\n    </tr>\n    <tr>\n      <th>Task 4</th>\n      <td>61.18 ± 1.39</td>\n      <td>90.22 ± 0.82</td>\n      <td>23.91 ± 1.21</td>\n    </tr>\n  </tbody>\n</table>\n</div>"
     },
     "metadata": {},
     "output_type": "display_data"
    }
   ],
   "source": [
    "df = pd.DataFrame(index=[f'Task {i}' for i in important_task],\n",
    "                  columns=['Class-IL', 'Task-IL', 'Con-Error'])\n",
    "for dis in results_dict:\n",
    "    res = results_dict[dis]\n",
    "    print(f'con weight: {dis} | exps({res[\"n_exps\"]}): {res[\"exp_indexes\"]}\\n')\n",
    "    for i in important_task:\n",
    "        df.loc[f'Task {i}', 'Class-IL']     = f'{np.mean(res[f\"CIL-{i}\"]):.2f} ± {np.std(res[f\"CIL-{i}\"]):.2f}'\n",
    "        df.loc[f'Task {i}', 'Task-IL']      = f'{np.mean(res[f\"TIL-{i}\"]):.2f} ± {np.std(res[f\"TIL-{i}\"]):.2f}'\n",
    "        df.loc[f'Task {i}', 'Con-Error']    = f'{np.mean(res[f\"ConE-{i}\"]):.2f} ± {np.std(res[f\"ConE-{i}\"]):.2f}'\n",
    "    display(df)"
   ],
   "metadata": {
    "collapsed": false,
    "pycharm": {
     "name": "#%%\n"
    }
   }
  },
  {
   "cell_type": "code",
   "execution_count": 15,
   "outputs": [],
   "source": [
    "discriminant = 'con_weight'\n",
    "important_task = [2]\n",
    "divide_accs = [1, 2]\n",
    "results_dict = {}\n",
    "for idx, exp in enumerate(environments[2]['exps']):\n",
    "    dis = exp[discriminant]\n",
    "    if dis not in results_dict:\n",
    "        results_dict[dis] = {'n_exps': 0, 'exp_indexes': [], 'Task-1': [], }\n",
    "        for i in divide_accs:\n",
    "            results_dict[dis][f'CIL-{i}'] = []\n",
    "            results_dict[dis][f'TIL-{i}'] = []\n",
    "            results_dict[dis][f'ConE-{i}'] = []\n",
    "    results_dict[dis]['n_exps'] += 1\n",
    "    results_dict[dis]['exp_indexes'].append(idx)\n",
    "    results_dict[dis]['Task-1'].append(exp['results'][0]['Class-IL'][0])\n",
    "    for i in important_task:\n",
    "        for j in divide_accs:\n",
    "            results_dict[dis][f'CIL-{j}'].append(exp['results'][i-1]['Class-IL'][j-1])\n",
    "            results_dict[dis][f'TIL-{j}'].append(exp['results'][i-1]['Task-IL'][j-1])\n",
    "            results_dict[dis][f'ConE-{j}'].append(exp['results'][i-1]['Con-Error'])"
   ],
   "metadata": {
    "collapsed": false,
    "pycharm": {
     "name": "#%%\n"
    }
   }
  },
  {
   "cell_type": "code",
   "execution_count": 16,
   "outputs": [
    {
     "name": "stdout",
     "output_type": "stream",
     "text": [
      "con weight: 0.0 | exps(6): [0, 1, 6, 7, 10, 11]\n",
      "Task-1: 76.97 ± 10.08\n"
     ]
    },
    {
     "data": {
      "text/plain": "            Class-IL       Task-IL     Con-Error\nTask 1  50.53 ± 3.11  67.98 ± 3.20  26.04 ± 1.40\nTask 2  70.90 ± 1.38  84.53 ± 1.53  26.04 ± 1.40",
      "text/html": "<div>\n<style scoped>\n    .dataframe tbody tr th:only-of-type {\n        vertical-align: middle;\n    }\n\n    .dataframe tbody tr th {\n        vertical-align: top;\n    }\n\n    .dataframe thead th {\n        text-align: right;\n    }\n</style>\n<table border=\"1\" class=\"dataframe\">\n  <thead>\n    <tr style=\"text-align: right;\">\n      <th></th>\n      <th>Class-IL</th>\n      <th>Task-IL</th>\n      <th>Con-Error</th>\n    </tr>\n  </thead>\n  <tbody>\n    <tr>\n      <th>Task 1</th>\n      <td>50.53 ± 3.11</td>\n      <td>67.98 ± 3.20</td>\n      <td>26.04 ± 1.40</td>\n    </tr>\n    <tr>\n      <th>Task 2</th>\n      <td>70.90 ± 1.38</td>\n      <td>84.53 ± 1.53</td>\n      <td>26.04 ± 1.40</td>\n    </tr>\n  </tbody>\n</table>\n</div>"
     },
     "metadata": {},
     "output_type": "display_data"
    },
    {
     "name": "stdout",
     "output_type": "stream",
     "text": [
      "con weight: 0.001 | exps(5): [2, 4, 8, 12, 15]\n",
      "Task-1: 80.96 ± 3.42\n"
     ]
    },
    {
     "data": {
      "text/plain": "            Class-IL       Task-IL     Con-Error\nTask 1  50.68 ± 6.49  69.70 ± 2.09  17.75 ± 0.92\nTask 2  68.76 ± 4.33  83.86 ± 2.83  17.75 ± 0.92",
      "text/html": "<div>\n<style scoped>\n    .dataframe tbody tr th:only-of-type {\n        vertical-align: middle;\n    }\n\n    .dataframe tbody tr th {\n        vertical-align: top;\n    }\n\n    .dataframe thead th {\n        text-align: right;\n    }\n</style>\n<table border=\"1\" class=\"dataframe\">\n  <thead>\n    <tr style=\"text-align: right;\">\n      <th></th>\n      <th>Class-IL</th>\n      <th>Task-IL</th>\n      <th>Con-Error</th>\n    </tr>\n  </thead>\n  <tbody>\n    <tr>\n      <th>Task 1</th>\n      <td>50.68 ± 6.49</td>\n      <td>69.70 ± 2.09</td>\n      <td>17.75 ± 0.92</td>\n    </tr>\n    <tr>\n      <th>Task 2</th>\n      <td>68.76 ± 4.33</td>\n      <td>83.86 ± 2.83</td>\n      <td>17.75 ± 0.92</td>\n    </tr>\n  </tbody>\n</table>\n</div>"
     },
     "metadata": {},
     "output_type": "display_data"
    },
    {
     "name": "stdout",
     "output_type": "stream",
     "text": [
      "con weight: 0.01 | exps(5): [3, 5, 9, 13, 14]\n",
      "Task-1: 74.18 ± 8.31\n"
     ]
    },
    {
     "data": {
      "text/plain": "            Class-IL       Task-IL     Con-Error\nTask 1  53.60 ± 2.64  70.66 ± 3.05  16.63 ± 1.74\nTask 2  68.78 ± 4.55  84.12 ± 1.27  16.63 ± 1.74",
      "text/html": "<div>\n<style scoped>\n    .dataframe tbody tr th:only-of-type {\n        vertical-align: middle;\n    }\n\n    .dataframe tbody tr th {\n        vertical-align: top;\n    }\n\n    .dataframe thead th {\n        text-align: right;\n    }\n</style>\n<table border=\"1\" class=\"dataframe\">\n  <thead>\n    <tr style=\"text-align: right;\">\n      <th></th>\n      <th>Class-IL</th>\n      <th>Task-IL</th>\n      <th>Con-Error</th>\n    </tr>\n  </thead>\n  <tbody>\n    <tr>\n      <th>Task 1</th>\n      <td>53.60 ± 2.64</td>\n      <td>70.66 ± 3.05</td>\n      <td>16.63 ± 1.74</td>\n    </tr>\n    <tr>\n      <th>Task 2</th>\n      <td>68.78 ± 4.55</td>\n      <td>84.12 ± 1.27</td>\n      <td>16.63 ± 1.74</td>\n    </tr>\n  </tbody>\n</table>\n</div>"
     },
     "metadata": {},
     "output_type": "display_data"
    }
   ],
   "source": [
    "df = pd.DataFrame(index=[f'Task {i}' for i in divide_accs],\n",
    "                  columns=['Class-IL', 'Task-IL', 'Con-Error'])\n",
    "for dis in results_dict:\n",
    "    res = results_dict[dis]\n",
    "    print(f'con weight: {dis} | exps({res[\"n_exps\"]}): {res[\"exp_indexes\"]}\\n'\n",
    "          f'Task-1: {np.mean(res[f\"Task-1\"]):.2f} ± {np.std(res[f\"Task-1\"]):.2f}')\n",
    "    for i in divide_accs:\n",
    "        df.loc[f'Task {i}', 'Class-IL']     = f'{np.mean(res[f\"CIL-{i}\"]):.2f} ± {np.std(res[f\"CIL-{i}\"]):.2f}'\n",
    "        df.loc[f'Task {i}', 'Task-IL']      = f'{np.mean(res[f\"TIL-{i}\"]):.2f} ± {np.std(res[f\"TIL-{i}\"]):.2f}'\n",
    "        df.loc[f'Task {i}', 'Con-Error']    = f'{np.mean(res[f\"ConE-{i}\"]):.2f} ± {np.std(res[f\"ConE-{i}\"]):.2f}'\n",
    "    display(df)"
   ],
   "metadata": {
    "collapsed": false,
    "pycharm": {
     "name": "#%%\n"
    }
   }
  },
  {
   "cell_type": "code",
   "execution_count": 14,
   "outputs": [
    {
     "data": {
      "text/plain": "dict_keys(['conv1.weight', 'bn1.weight', 'bn1.bias', 'bn1.running_mean', 'bn1.running_var', 'bn1.num_batches_tracked', 'layer1.0.conv1.weight', 'layer1.0.bn1.weight', 'layer1.0.bn1.bias', 'layer1.0.bn1.running_mean', 'layer1.0.bn1.running_var', 'layer1.0.bn1.num_batches_tracked', 'layer1.0.conv2.weight', 'layer1.0.bn2.weight', 'layer1.0.bn2.bias', 'layer1.0.bn2.running_mean', 'layer1.0.bn2.running_var', 'layer1.0.bn2.num_batches_tracked', 'layer1.1.conv1.weight', 'layer1.1.bn1.weight', 'layer1.1.bn1.bias', 'layer1.1.bn1.running_mean', 'layer1.1.bn1.running_var', 'layer1.1.bn1.num_batches_tracked', 'layer1.1.conv2.weight', 'layer1.1.bn2.weight', 'layer1.1.bn2.bias', 'layer1.1.bn2.running_mean', 'layer1.1.bn2.running_var', 'layer1.1.bn2.num_batches_tracked', 'layer2.0.conv1.weight', 'layer2.0.bn1.weight', 'layer2.0.bn1.bias', 'layer2.0.bn1.running_mean', 'layer2.0.bn1.running_var', 'layer2.0.bn1.num_batches_tracked', 'layer2.0.conv2.weight', 'layer2.0.bn2.weight', 'layer2.0.bn2.bias', 'layer2.0.bn2.running_mean', 'layer2.0.bn2.running_var', 'layer2.0.bn2.num_batches_tracked', 'layer2.0.shortcut.0.weight', 'layer2.0.shortcut.1.weight', 'layer2.0.shortcut.1.bias', 'layer2.0.shortcut.1.running_mean', 'layer2.0.shortcut.1.running_var', 'layer2.0.shortcut.1.num_batches_tracked', 'layer2.1.conv1.weight', 'layer2.1.bn1.weight', 'layer2.1.bn1.bias', 'layer2.1.bn1.running_mean', 'layer2.1.bn1.running_var', 'layer2.1.bn1.num_batches_tracked', 'layer2.1.conv2.weight', 'layer2.1.bn2.weight', 'layer2.1.bn2.bias', 'layer2.1.bn2.running_mean', 'layer2.1.bn2.running_var', 'layer2.1.bn2.num_batches_tracked', 'layer3.0.conv1.weight', 'layer3.0.bn1.weight', 'layer3.0.bn1.bias', 'layer3.0.bn1.running_mean', 'layer3.0.bn1.running_var', 'layer3.0.bn1.num_batches_tracked', 'layer3.0.conv2.weight', 'layer3.0.bn2.weight', 'layer3.0.bn2.bias', 'layer3.0.bn2.running_mean', 'layer3.0.bn2.running_var', 'layer3.0.bn2.num_batches_tracked', 'layer3.0.shortcut.0.weight', 'layer3.0.shortcut.1.weight', 'layer3.0.shortcut.1.bias', 'layer3.0.shortcut.1.running_mean', 'layer3.0.shortcut.1.running_var', 'layer3.0.shortcut.1.num_batches_tracked', 'layer3.1.conv1.weight', 'layer3.1.bn1.weight', 'layer3.1.bn1.bias', 'layer3.1.bn1.running_mean', 'layer3.1.bn1.running_var', 'layer3.1.bn1.num_batches_tracked', 'layer3.1.conv2.weight', 'layer3.1.bn2.weight', 'layer3.1.bn2.bias', 'layer3.1.bn2.running_mean', 'layer3.1.bn2.running_var', 'layer3.1.bn2.num_batches_tracked', 'layer4.0.conv1.weight', 'layer4.0.bn1.weight', 'layer4.0.bn1.bias', 'layer4.0.bn1.running_mean', 'layer4.0.bn1.running_var', 'layer4.0.bn1.num_batches_tracked', 'layer4.0.conv2.weight', 'layer4.0.bn2.weight', 'layer4.0.bn2.bias', 'layer4.0.bn2.running_mean', 'layer4.0.bn2.running_var', 'layer4.0.bn2.num_batches_tracked', 'layer4.0.shortcut.0.weight', 'layer4.0.shortcut.1.weight', 'layer4.0.shortcut.1.bias', 'layer4.0.shortcut.1.running_mean', 'layer4.0.shortcut.1.running_var', 'layer4.0.shortcut.1.num_batches_tracked', 'layer4.1.conv1.weight', 'layer4.1.bn1.weight', 'layer4.1.bn1.bias', 'layer4.1.bn1.running_mean', 'layer4.1.bn1.running_var', 'layer4.1.bn1.num_batches_tracked', 'layer4.1.conv2.weight', 'layer4.1.bn2.weight', 'layer4.1.bn2.bias', 'layer4.1.bn2.running_mean', 'layer4.1.bn2.running_var', 'layer4.1.bn2.num_batches_tracked', 'classifier.weight', 'classifier.bias'])"
     },
     "execution_count": 14,
     "metadata": {},
     "output_type": "execute_result"
    }
   ],
   "source": [],
   "metadata": {
    "collapsed": false,
    "pycharm": {
     "name": "#%%\n"
    }
   }
  }
 ],
 "metadata": {
  "kernelspec": {
   "display_name": "Python 3",
   "language": "python",
   "name": "python3"
  },
  "language_info": {
   "codemirror_mode": {
    "name": "ipython",
    "version": 3
   },
   "file_extension": ".py",
   "mimetype": "text/x-python",
   "name": "python",
   "nbconvert_exporter": "python",
   "pygments_lexer": "ipython3",
   "version": "3.8.10"
  }
 },
 "nbformat": 4,
 "nbformat_minor": 1
}